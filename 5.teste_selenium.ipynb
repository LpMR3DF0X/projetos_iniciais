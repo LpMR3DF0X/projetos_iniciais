{
 "cells": [
  {
   "cell_type": "code",
   "execution_count": 2,
   "metadata": {},
   "outputs": [],
   "source": [
    "from selenium import webdriver\n",
    "from selenium.webdriver.common.keys import Keys\n",
    "from selenium.webdriver.common.by import By\n",
    "import os\n",
    "from urllib.parse import quote\n",
    "from selenium.common.exceptions import NoSuchElementException\n",
    "import time\n",
    "import sqlite3\n",
    "import pandas as pd"
   ]
  },
  {
   "cell_type": "code",
   "execution_count": 3,
   "metadata": {},
   "outputs": [],
   "source": [
    "def iniciar_whatsapp():\n",
    "    dir_path = os.getcwd()\n",
    "    profile = os.path.join(dir_path, \"profile\", \"wpp\")\n",
    "    options = webdriver.ChromeOptions()\n",
    "    options.add_argument(r\"user-data-dir={}\".format(profile))\n",
    "\n",
    "    driver = webdriver.Chrome(options=options)\n",
    "    driver.get(\"https://web.whatsapp.com/\")\n",
    "\n",
    "    return driver\n",
    "\n",
    "def enviar_e_acionar_botao_enviar(driver, telefone, mensagem):\n",
    "    cont = 0 \n",
    "    driver.get(f\"https://web.whatsapp.com/send?phone={telefone}&text={quote(mensagem)}\")\n",
    "    while True:\n",
    "        try:\n",
    "            cont += 1\n",
    "            time.sleep(1)\n",
    "            if cont <= 60:\n",
    "                driver.find_element(By.XPATH, '//*[@id=\"main\"]/footer/div[1]/div/span[2]/div/div[2]/div[2]/button').click()\n",
    "                texto = driver.find_element(By.XPATH, '//*[@id=\"main\"]/footer/div[1]/div/span[2]/div/div[2]/div[1]/div').text\n",
    "                if texto == 'Digite uma mensagem':\n",
    "                    break\n",
    "            else:\n",
    "                break\n",
    "        except Exception as e:\n",
    "            pass\n",
    "    time.sleep(5)\n",
    "\n",
    "caminho_sqlite = r\"C:\\backup_sip\\2023-11-28_12-42-33_grafana.db\"\n",
    "def select_sqlite(query):\n",
    "    conn = sqlite3.connect(caminho_sqlite)\n",
    "    df = pd.read_sql_query(query, conn)\n",
    "    conn.close()\n",
    "    return df"
   ]
  },
  {
   "cell_type": "code",
   "execution_count": 9,
   "metadata": {},
   "outputs": [],
   "source": [
    "df = select_sqlite(\"select login from user where org_id = 24 and login not in ('admin') \")\n",
    "#and id >= 4000 and login != 'TERMINATOR'\n",
    "login_list = df['login'].tolist()\n",
    "#df "
   ]
  },
  {
   "cell_type": "code",
   "execution_count": 10,
   "metadata": {},
   "outputs": [
    {
     "name": "stdout",
     "output_type": "stream",
     "text": [
      "['CAROLINE MARTINI', 'DAIANE DE', 'EVERTON BITELO', 'FABIO GABRIEL', 'ITAMAR DE', 'JONE VIEIRA', 'JOSCIANE FACHI', 'MATHEUS RAK', 'MILENA HERMELINDA', 'PATRICIA DA', 'VENDEDOR E-COMMERCE', 'VENDEDOR FACHI', 'VIVIANE DE', 'VIVIANE OLIVEIRA', 'ALISSON FACHI', 'DAIANE MARQUES']\n"
     ]
    }
   ],
   "source": [
    "print (login_list)"
   ]
  },
  {
   "cell_type": "code",
   "execution_count": 19,
   "metadata": {},
   "outputs": [
    {
     "name": "stdout",
     "output_type": "stream",
     "text": [
      "16 "
     ]
    }
   ],
   "source": [
    "telefones = [\"+5551999728943\"]\n",
    "mensagem = \"\"\"\n",
    "Olá, \n",
    "\n",
    "Eu sou o Sip, aquele mesmo que você esta usando para acompanhar seus indicadores de venda e performance. Só que agora no modo mensageiro 📩. \n",
    "\n",
    "\n",
    "Enviarei para você diariamente informações relevantes, então me adiciona nos seus contatos e curta mais essa experiência!🚀\n",
    "\n",
    "          \n",
    "Para mais informações acesse: https://santrianalytics.com/vendedores\n",
    "\"\"\"\n",
    "driver = iniciar_whatsapp()\n",
    "time.sleep(30)\n",
    "for telefone in telefones:\n",
    "    enviar_e_acionar_botao_enviar(driver, telefone, mensagem)\n",
    "\n",
    "    cont=0\n",
    "    for login in login_list:\n",
    "        mensagem2 = f\"\"\"\n",
    "Olá, eu sou o SIP, seu novo assistente irado! Vou ajudar vc a entender e melhorar sua performance de venda. Acesse esse link e salve um atalho na sua área de trabalho... https://santrianalytics.com.br/Vendedores\n",
    "\n",
    "\n",
    "Seu usuário para acesso será o seguinte:\n",
    "\n",
    "Usuário: {login}\n",
    "Senha: sip123\n",
    "\n",
    "Vamos nessa!!!\n",
    "\"\"\"\n",
    "        enviar_e_acionar_botao_enviar(driver, telefone, mensagem2)\n",
    "        cont+=1\n",
    "        print(f\"\\r{cont}\", end=' ')"
   ]
  },
  {
   "cell_type": "code",
   "execution_count": 13,
   "metadata": {},
   "outputs": [],
   "source": [
    "driver = iniciar_whatsapp()"
   ]
  },
  {
   "cell_type": "code",
   "execution_count": 18,
   "metadata": {},
   "outputs": [],
   "source": [
    "driver.quit()"
   ]
  }
 ],
 "metadata": {
  "kernelspec": {
   "display_name": "vscode",
   "language": "python",
   "name": "python3"
  },
  "language_info": {
   "codemirror_mode": {
    "name": "ipython",
    "version": 3
   },
   "file_extension": ".py",
   "mimetype": "text/x-python",
   "name": "python",
   "nbconvert_exporter": "python",
   "pygments_lexer": "ipython3",
   "version": "3.11.4"
  },
  "orig_nbformat": 4
 },
 "nbformat": 4,
 "nbformat_minor": 2
}
